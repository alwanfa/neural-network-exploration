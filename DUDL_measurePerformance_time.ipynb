{
  "nbformat": 4,
  "nbformat_minor": 0,
  "metadata": {
    "colab": {
      "provenance": [],
      "include_colab_link": true
    },
    "kernelspec": {
      "name": "python3",
      "display_name": "Python 3"
    }
  },
  "cells": [
    {
      "cell_type": "markdown",
      "metadata": {
        "id": "view-in-github",
        "colab_type": "text"
      },
      "source": [
        "<a href=\"https://colab.research.google.com/github/alwanfa/neural-network-exploration/blob/main/DUDL_measurePerformance_time.ipynb\" target=\"_parent\"><img src=\"https://colab.research.google.com/assets/colab-badge.svg\" alt=\"Open In Colab\"/></a>"
      ]
    },
    {
      "cell_type": "markdown",
      "metadata": {
        "id": "bhWV8oes-wKR"
      },
      "source": [
        "# COURSE: A deep understanding of deep learning\n",
        "## SECTION: Measuring model performance\n",
        "### LECTURE: Computation time\n",
        "#### TEACHER: Mike X Cohen, sincxpress.com\n",
        "##### COURSE URL: udemy.com/course/deeplearning_x/?couponCode=202401"
      ]
    },
    {
      "cell_type": "code",
      "metadata": {
        "id": "YeuAheYyhdZw"
      },
      "source": [
        "# import libraries\n",
        "import numpy as np\n",
        "\n",
        "import torch\n",
        "import torch.nn as nn\n",
        "import torch.nn.functional as F\n",
        "from torch.utils.data import DataLoader\n",
        "from sklearn.model_selection import train_test_split\n",
        "\n",
        "# New!\n",
        "import time\n",
        "# Well, OK, it's not really new. See, e.g., DUDL_metaparams_CodeChallengeBatches\n",
        "\n",
        "import matplotlib.pyplot as plt\n",
        "import matplotlib_inline.backend_inline\n",
        "matplotlib_inline.backend_inline.set_matplotlib_formats('svg')"
      ],
      "execution_count": 1,
      "outputs": []
    },
    {
      "cell_type": "markdown",
      "metadata": {
        "id": "0HOkOefftqyg"
      },
      "source": [
        "# Import and process the data"
      ]
    },
    {
      "cell_type": "code",
      "metadata": {
        "id": "MU7rvmWuhjud"
      },
      "source": [
        "# import dataset (comes with colab!)\n",
        "data = np.loadtxt(open('sample_data/mnist_train_small.csv','rb'),delimiter=',')\n",
        "\n",
        "# extract labels (number IDs) and remove from data\n",
        "labels = data[:,0]\n",
        "data   = data[:,1:]\n",
        "\n",
        "# normalize the data to a range of [0 1]\n",
        "dataNorm = data / np.max(data)"
      ],
      "execution_count": 2,
      "outputs": []
    },
    {
      "cell_type": "markdown",
      "metadata": {
        "id": "OhLQ2YSvpiGj"
      },
      "source": [
        "# Create train/test groups using DataLoader"
      ]
    },
    {
      "cell_type": "code",
      "metadata": {
        "id": "Y_tZ1ymVp0Sf"
      },
      "source": [
        "# Step 1: convert to tensor\n",
        "dataT   = torch.tensor( dataNorm ).float()\n",
        "labelsT = torch.tensor( labels ).long()\n",
        "\n",
        "# Step 2: use scikitlearn to split the data\n",
        "train_data,test_data, train_labels,test_labels = train_test_split(dataT, labelsT, test_size=.1)\n",
        "\n",
        "\n",
        "# Step 3: convert into PyTorch Datasets\n",
        "train_data = torch.utils.data.TensorDataset(train_data,train_labels)\n",
        "test_data  = torch.utils.data.TensorDataset(test_data,test_labels)\n",
        "\n",
        "# Step 4: translate into dataloader objects\n",
        "batchsize  = 32\n",
        "train_loader = DataLoader(train_data,batch_size=batchsize,shuffle=True,drop_last=True)\n",
        "test_loader  = DataLoader(test_data,batch_size=test_data.tensors[0].shape[0])"
      ],
      "execution_count": 3,
      "outputs": []
    },
    {
      "cell_type": "markdown",
      "metadata": {
        "id": "OK8Opkhgp0bO"
      },
      "source": [
        "# Create the DL model"
      ]
    },
    {
      "cell_type": "code",
      "metadata": {
        "id": "JK3OO3tAtZkA"
      },
      "source": [
        "# create a class for the model\n",
        "def createTheMNISTNet():\n",
        "\n",
        "  class mnistNet(nn.Module):\n",
        "    def __init__(self):\n",
        "      super().__init__()\n",
        "\n",
        "      ### input layer\n",
        "      self.input = nn.Linear(784,64)\n",
        "\n",
        "      ### hidden layer\n",
        "      self.fc1 = nn.Linear(64,32)\n",
        "      self.fc2 = nn.Linear(32,32)\n",
        "\n",
        "      ### output layer\n",
        "      self.output = nn.Linear(32,10)\n",
        "\n",
        "    # forward pass\n",
        "    def forward(self,x):\n",
        "      x = F.relu( self.input(x) )\n",
        "      x = F.relu( self.fc1(x) )\n",
        "      x = F.relu( self.fc2(x) )\n",
        "      return self.output(x)\n",
        "\n",
        "  # create the model instance\n",
        "  net = mnistNet()\n",
        "\n",
        "  # loss function\n",
        "  lossfun = nn.CrossEntropyLoss()\n",
        "\n",
        "  # optimizer\n",
        "  optimizer = torch.optim.Adam(net.parameters(),lr=.01)\n",
        "\n",
        "  return net,lossfun,optimizer"
      ],
      "execution_count": 4,
      "outputs": []
    },
    {
      "cell_type": "markdown",
      "metadata": {
        "id": "dvfGQIRGp0ht"
      },
      "source": [
        "# Create a function that trains the model"
      ]
    },
    {
      "cell_type": "code",
      "metadata": {
        "id": "IblJo1NCp0kl"
      },
      "source": [
        "def function2trainTheModel():\n",
        "\n",
        "  # Start the timer!\n",
        "  timerInFunction = time.process_time()\n",
        "\n",
        "  # number of epochs\n",
        "  numepochs = 10\n",
        "\n",
        "  # create a new model\n",
        "  net,lossfun,optimizer = createTheMNISTNet()\n",
        "\n",
        "  # initialize losses\n",
        "  losses    = torch.zeros(numepochs)\n",
        "  trainAcc  = []\n",
        "  testAcc   = []\n",
        "\n",
        "\n",
        "  # loop over epochs\n",
        "  for epochi in range(numepochs):\n",
        "\n",
        "    # loop over training data batches\n",
        "    batchAcc  = []\n",
        "    batchLoss = []\n",
        "    for X,y in train_loader:\n",
        "\n",
        "      # forward pass and loss\n",
        "      yHat = net(X)\n",
        "      loss = lossfun(yHat,y)\n",
        "\n",
        "      # backprop\n",
        "      optimizer.zero_grad()\n",
        "      loss.backward()\n",
        "      optimizer.step()\n",
        "\n",
        "      # loss from this batch\n",
        "      batchLoss.append(loss.item())\n",
        "\n",
        "      # compute accuracy\n",
        "      matches = torch.argmax(yHat,axis=1) == y     # booleans (false/true)\n",
        "      matchesNumeric = matches.float()             # convert to numbers (0/1)\n",
        "      accuracyPct = 100*torch.mean(matchesNumeric) # average and x100\n",
        "      batchAcc.append( accuracyPct )               # add to list of accuracies\n",
        "    # end of batch loop...\n",
        "\n",
        "    # now that we've trained through the batches, get their average training accuracy\n",
        "    trainAcc.append( np.mean(batchAcc) )\n",
        "\n",
        "    # and get average losses across the batches\n",
        "    losses[epochi] = np.mean(batchLoss)\n",
        "\n",
        "    # test accuracy\n",
        "    X,y = next(iter(test_loader)) # extract X,y from test dataloader\n",
        "    with torch.no_grad(): # deactivates autograd\n",
        "      yHat = net(X)\n",
        "\n",
        "    # compare the following really long line of code to the training accuracy lines\n",
        "    testAcc.append( 100*torch.mean((torch.argmax(yHat,axis=1)==y).float()) )\n",
        "\n",
        "    # Finally, report the epoch number, computation time, and accuracy\n",
        "    comptime = time.process_time() - timerInFunction\n",
        "    if (epochi+1)%5 == 0 :print(f'Epoch {epochi+1}/{numepochs}, elapsed time: {comptime:.2f} sec, test accuracy {testAcc[-1]:.0f}%')\n",
        "\n",
        "  # end epochs\n",
        "\n",
        "  # function output\n",
        "  return trainAcc,testAcc,losses,net"
      ],
      "execution_count": 24,
      "outputs": []
    },
    {
      "cell_type": "markdown",
      "metadata": {
        "id": "XpGm9xdQ27Ob"
      },
      "source": [
        "# Run the model and show the results!"
      ]
    },
    {
      "cell_type": "code",
      "metadata": {
        "id": "l9pCC1R2p0nu",
        "colab": {
          "base_uri": "https://localhost:8080/"
        },
        "outputId": "b376020f-d720-48ce-ab52-14c975938642"
      },
      "source": [
        "trainAcc,testAcc,losses,net = function2trainTheModel()"
      ],
      "execution_count": 25,
      "outputs": [
        {
          "output_type": "stream",
          "name": "stdout",
          "text": [
            "Epoch 5/10, elapsed time: 10.09 sec, test accuracy 93%\n",
            "Epoch 10/10, elapsed time: 19.51 sec, test accuracy 95%\n"
          ]
        }
      ]
    },
    {
      "cell_type": "code",
      "metadata": {
        "id": "gHzKOZjnp0qn",
        "colab": {
          "base_uri": "https://localhost:8080/"
        },
        "outputId": "365a00ed-0ad3-4f26-8fbc-4f78c070c248"
      },
      "source": [
        "# now run a second timer over repeated iterations\n",
        "\n",
        "# Start the timer! (note the different variable name)\n",
        "timerOutsideFunction = time.process_time()\n",
        "\n",
        "for i in range(10):\n",
        "  function2trainTheModel()\n",
        "\n",
        "TotalExperimentTime = time.process_time() - timerOutsideFunction\n",
        "print(f'\\n\\n\\nTotal elapsed experiment time: {TotalExperimentTime//60:.2f} minutes and {TotalExperimentTime%60} seconds')"
      ],
      "execution_count": 7,
      "outputs": [
        {
          "output_type": "stream",
          "name": "stdout",
          "text": [
            "Epoch 1/10, elapsed time: 1.67 sec, test accuracy 92%\n",
            "Epoch 2/10, elapsed time: 3.50 sec, test accuracy 94%\n",
            "Epoch 3/10, elapsed time: 5.45 sec, test accuracy 94%\n",
            "Epoch 4/10, elapsed time: 7.13 sec, test accuracy 93%\n",
            "Epoch 5/10, elapsed time: 9.07 sec, test accuracy 94%\n",
            "Epoch 6/10, elapsed time: 11.64 sec, test accuracy 93%\n",
            "Epoch 7/10, elapsed time: 13.82 sec, test accuracy 95%\n",
            "Epoch 8/10, elapsed time: 15.65 sec, test accuracy 95%\n",
            "Epoch 9/10, elapsed time: 17.49 sec, test accuracy 95%\n",
            "Epoch 10/10, elapsed time: 19.38 sec, test accuracy 95%\n",
            "Epoch 1/10, elapsed time: 1.49 sec, test accuracy 91%\n",
            "Epoch 2/10, elapsed time: 3.36 sec, test accuracy 94%\n",
            "Epoch 3/10, elapsed time: 6.09 sec, test accuracy 93%\n",
            "Epoch 4/10, elapsed time: 7.99 sec, test accuracy 94%\n",
            "Epoch 5/10, elapsed time: 9.79 sec, test accuracy 95%\n",
            "Epoch 6/10, elapsed time: 11.64 sec, test accuracy 94%\n",
            "Epoch 7/10, elapsed time: 13.41 sec, test accuracy 94%\n",
            "Epoch 8/10, elapsed time: 15.32 sec, test accuracy 94%\n",
            "Epoch 9/10, elapsed time: 17.63 sec, test accuracy 95%\n",
            "Epoch 10/10, elapsed time: 20.05 sec, test accuracy 95%\n",
            "Epoch 1/10, elapsed time: 1.65 sec, test accuracy 91%\n",
            "Epoch 2/10, elapsed time: 3.42 sec, test accuracy 94%\n",
            "Epoch 3/10, elapsed time: 5.23 sec, test accuracy 94%\n",
            "Epoch 4/10, elapsed time: 7.02 sec, test accuracy 94%\n",
            "Epoch 5/10, elapsed time: 8.86 sec, test accuracy 94%\n",
            "Epoch 6/10, elapsed time: 11.50 sec, test accuracy 95%\n",
            "Epoch 7/10, elapsed time: 13.50 sec, test accuracy 94%\n",
            "Epoch 8/10, elapsed time: 15.36 sec, test accuracy 94%\n",
            "Epoch 9/10, elapsed time: 17.14 sec, test accuracy 94%\n",
            "Epoch 10/10, elapsed time: 18.88 sec, test accuracy 94%\n",
            "Epoch 1/10, elapsed time: 1.50 sec, test accuracy 92%\n",
            "Epoch 2/10, elapsed time: 3.61 sec, test accuracy 93%\n",
            "Epoch 3/10, elapsed time: 6.01 sec, test accuracy 94%\n",
            "Epoch 4/10, elapsed time: 7.95 sec, test accuracy 92%\n",
            "Epoch 5/10, elapsed time: 9.69 sec, test accuracy 94%\n",
            "Epoch 6/10, elapsed time: 11.47 sec, test accuracy 93%\n",
            "Epoch 7/10, elapsed time: 13.60 sec, test accuracy 94%\n",
            "Epoch 8/10, elapsed time: 15.39 sec, test accuracy 94%\n",
            "Epoch 9/10, elapsed time: 18.17 sec, test accuracy 94%\n",
            "Epoch 10/10, elapsed time: 20.00 sec, test accuracy 94%\n",
            "Epoch 1/10, elapsed time: 1.51 sec, test accuracy 93%\n",
            "Epoch 2/10, elapsed time: 3.16 sec, test accuracy 93%\n",
            "Epoch 3/10, elapsed time: 4.94 sec, test accuracy 93%\n",
            "Epoch 4/10, elapsed time: 6.68 sec, test accuracy 94%\n",
            "Epoch 5/10, elapsed time: 8.55 sec, test accuracy 95%\n",
            "Epoch 6/10, elapsed time: 11.13 sec, test accuracy 94%\n",
            "Epoch 7/10, elapsed time: 13.06 sec, test accuracy 94%\n",
            "Epoch 8/10, elapsed time: 14.85 sec, test accuracy 95%\n",
            "Epoch 9/10, elapsed time: 16.70 sec, test accuracy 94%\n",
            "Epoch 10/10, elapsed time: 18.46 sec, test accuracy 95%\n",
            "Epoch 1/10, elapsed time: 1.45 sec, test accuracy 92%\n",
            "Epoch 2/10, elapsed time: 3.29 sec, test accuracy 93%\n",
            "Epoch 3/10, elapsed time: 6.14 sec, test accuracy 94%\n",
            "Epoch 4/10, elapsed time: 7.91 sec, test accuracy 94%\n",
            "Epoch 5/10, elapsed time: 9.69 sec, test accuracy 94%\n",
            "Epoch 6/10, elapsed time: 11.49 sec, test accuracy 94%\n",
            "Epoch 7/10, elapsed time: 13.45 sec, test accuracy 95%\n",
            "Epoch 8/10, elapsed time: 15.16 sec, test accuracy 95%\n",
            "Epoch 9/10, elapsed time: 17.61 sec, test accuracy 95%\n",
            "Epoch 10/10, elapsed time: 20.01 sec, test accuracy 95%\n",
            "Epoch 1/10, elapsed time: 1.42 sec, test accuracy 92%\n",
            "Epoch 2/10, elapsed time: 3.16 sec, test accuracy 92%\n",
            "Epoch 3/10, elapsed time: 4.92 sec, test accuracy 94%\n",
            "Epoch 4/10, elapsed time: 6.75 sec, test accuracy 95%\n",
            "Epoch 5/10, elapsed time: 8.67 sec, test accuracy 94%\n",
            "Epoch 6/10, elapsed time: 10.88 sec, test accuracy 94%\n",
            "Epoch 7/10, elapsed time: 13.33 sec, test accuracy 94%\n",
            "Epoch 8/10, elapsed time: 15.17 sec, test accuracy 94%\n",
            "Epoch 9/10, elapsed time: 16.99 sec, test accuracy 94%\n",
            "Epoch 10/10, elapsed time: 18.94 sec, test accuracy 94%\n",
            "Epoch 1/10, elapsed time: 1.54 sec, test accuracy 91%\n",
            "Epoch 2/10, elapsed time: 3.50 sec, test accuracy 93%\n",
            "Epoch 3/10, elapsed time: 5.91 sec, test accuracy 93%\n",
            "Epoch 4/10, elapsed time: 8.01 sec, test accuracy 94%\n",
            "Epoch 5/10, elapsed time: 9.83 sec, test accuracy 94%\n",
            "Epoch 6/10, elapsed time: 11.60 sec, test accuracy 95%\n",
            "Epoch 7/10, elapsed time: 13.35 sec, test accuracy 94%\n",
            "Epoch 8/10, elapsed time: 15.18 sec, test accuracy 94%\n",
            "Epoch 9/10, elapsed time: 16.95 sec, test accuracy 95%\n",
            "Epoch 10/10, elapsed time: 19.51 sec, test accuracy 94%\n",
            "Epoch 1/10, elapsed time: 1.79 sec, test accuracy 91%\n",
            "Epoch 2/10, elapsed time: 3.50 sec, test accuracy 94%\n",
            "Epoch 3/10, elapsed time: 5.30 sec, test accuracy 94%\n",
            "Epoch 4/10, elapsed time: 7.02 sec, test accuracy 94%\n",
            "Epoch 5/10, elapsed time: 8.86 sec, test accuracy 94%\n",
            "Epoch 6/10, elapsed time: 10.75 sec, test accuracy 95%\n",
            "Epoch 7/10, elapsed time: 13.21 sec, test accuracy 94%\n",
            "Epoch 8/10, elapsed time: 15.09 sec, test accuracy 91%\n",
            "Epoch 9/10, elapsed time: 16.97 sec, test accuracy 93%\n",
            "Epoch 10/10, elapsed time: 18.94 sec, test accuracy 94%\n",
            "Epoch 1/10, elapsed time: 1.63 sec, test accuracy 92%\n",
            "Epoch 2/10, elapsed time: 3.37 sec, test accuracy 94%\n",
            "Epoch 3/10, elapsed time: 5.59 sec, test accuracy 94%\n",
            "Epoch 4/10, elapsed time: 8.06 sec, test accuracy 94%\n",
            "Epoch 5/10, elapsed time: 9.95 sec, test accuracy 94%\n",
            "Epoch 6/10, elapsed time: 11.74 sec, test accuracy 95%\n",
            "Epoch 7/10, elapsed time: 13.70 sec, test accuracy 93%\n",
            "Epoch 8/10, elapsed time: 15.64 sec, test accuracy 94%\n",
            "Epoch 9/10, elapsed time: 17.44 sec, test accuracy 93%\n",
            "Epoch 10/10, elapsed time: 20.16 sec, test accuracy 95%\n",
            "\n",
            "\n",
            "\n",
            "Total elapsed experiment time: 3.24 minutes\n"
          ]
        }
      ]
    },
    {
      "cell_type": "code",
      "source": [
        "print(f'Total elapsed experiment time: {TotalExperimentTime//60:.2f} minutes and {TotalExperimentTime%60:.2f} seconds')"
      ],
      "metadata": {
        "colab": {
          "base_uri": "https://localhost:8080/"
        },
        "id": "8FAMMiVFYTpp",
        "outputId": "8185d621-ed38-49c8-fa02-9b3a4423f2e5"
      },
      "execution_count": 13,
      "outputs": [
        {
          "output_type": "stream",
          "name": "stdout",
          "text": [
            "Total elapsed experiment time: 3.00 minutes and 14.35 seconds\n"
          ]
        }
      ]
    },
    {
      "cell_type": "code",
      "metadata": {
        "id": "VOsqp9Dosb1i"
      },
      "source": [],
      "execution_count": null,
      "outputs": []
    },
    {
      "cell_type": "markdown",
      "metadata": {
        "id": "7KP-981UsbjS"
      },
      "source": [
        "# Additional explorations"
      ]
    },
    {
      "cell_type": "code",
      "metadata": {
        "id": "JdnIdmBjsd2U"
      },
      "source": [
        "# 1) Modify the TotalExperimentTime code so that it prints minutes and seconds. For example, 500 seconds is\n",
        "#    8 minutes and 20 seconds. (Done)\n",
        "#\n",
        "# 2) Modify the code inside the training function so that the display prints on only every 5th epoch. (Done)\n",
        "#"
      ],
      "execution_count": null,
      "outputs": []
    }
  ]
}