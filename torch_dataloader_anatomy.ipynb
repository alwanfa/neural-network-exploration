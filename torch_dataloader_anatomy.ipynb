{
  "nbformat": 4,
  "nbformat_minor": 0,
  "metadata": {
    "colab": {
      "provenance": [],
      "authorship_tag": "ABX9TyMmW7ykfax7ePiXzDezv2iZ",
      "include_colab_link": true
    },
    "kernelspec": {
      "name": "python3",
      "display_name": "Python 3"
    },
    "language_info": {
      "name": "python"
    }
  },
  "cells": [
    {
      "cell_type": "markdown",
      "metadata": {
        "id": "view-in-github",
        "colab_type": "text"
      },
      "source": [
        "<a href=\"https://colab.research.google.com/github/alwanfa/neural-network-exploration/blob/main/torch_dataloader_anatomy.ipynb\" target=\"_parent\"><img src=\"https://colab.research.google.com/assets/colab-badge.svg\" alt=\"Open In Colab\"/></a>"
      ]
    },
    {
      "cell_type": "markdown",
      "source": [
        "## Datasets load"
      ],
      "metadata": {
        "id": "FIuH6_LFDiB3"
      }
    },
    {
      "cell_type": "code",
      "execution_count": 2,
      "metadata": {
        "id": "xLRnSiHJDGGx"
      },
      "outputs": [],
      "source": [
        "# prompt: import numpy, pandas, torch dataloader and tensor dataset\n",
        "\n",
        "import numpy as np\n",
        "import pandas as pd\n",
        "import torch\n",
        "from torch.utils.data import DataLoader, TensorDataset\n"
      ]
    },
    {
      "cell_type": "code",
      "source": [
        "\n",
        "# Create a sample dataset\n",
        "n_obeservations = 100\n",
        "n_features = 20\n",
        "data = np.random.rand(n_obeservations, n_features)"
      ],
      "metadata": {
        "id": "N_8z-r3YD4H5"
      },
      "execution_count": 3,
      "outputs": []
    },
    {
      "cell_type": "code",
      "source": [
        "dataT = torch.tensor(data)\n",
        "\n",
        "print('Numpy data: ')\n",
        "print(type(data))\n",
        "print(data.shape)\n",
        "print(data.dtype)\n",
        "print()\n",
        "\n",
        "print('Torch tensor: ')\n",
        "print(type(dataT))\n",
        "print(dataT.shape)\n",
        "print(dataT.dtype)\n"
      ],
      "metadata": {
        "colab": {
          "base_uri": "https://localhost:8080/"
        },
        "id": "Lf01OPoGEZ2W",
        "outputId": "cc899402-a91f-449c-ca9f-1ec18f0143c0"
      },
      "execution_count": 6,
      "outputs": [
        {
          "output_type": "stream",
          "name": "stdout",
          "text": [
            "Numpy data: \n",
            "<class 'numpy.ndarray'>\n",
            "(100, 20)\n",
            "float64\n",
            "\n",
            "Torch tensor: \n",
            "<class 'torch.Tensor'>\n",
            "torch.Size([100, 20])\n",
            "torch.float64\n"
          ]
        }
      ]
    },
    {
      "cell_type": "code",
      "source": [
        "dataT"
      ],
      "metadata": {
        "colab": {
          "base_uri": "https://localhost:8080/"
        },
        "id": "qeG4vgmkGC_F",
        "outputId": "08c3b796-3161-42c9-9bbd-61654a736379"
      },
      "execution_count": 23,
      "outputs": [
        {
          "output_type": "execute_result",
          "data": {
            "text/plain": [
              "tensor([[0.4075, 0.2740, 0.4280,  ..., 0.0764, 0.8179, 0.8171],\n",
              "        [0.7095, 0.3158, 0.3363,  ..., 0.7028, 0.7733, 0.0552],\n",
              "        [0.8561, 0.4519, 0.8760,  ..., 0.0839, 0.7371, 0.8539],\n",
              "        ...,\n",
              "        [0.8188, 0.4282, 0.1110,  ..., 0.5945, 0.5985, 0.0471],\n",
              "        [0.5895, 0.0453, 0.5771,  ..., 0.2404, 0.3429, 0.1956],\n",
              "        [0.0669, 0.0146, 0.8544,  ..., 0.3187, 0.3391, 0.9278]],\n",
              "       dtype=torch.float64)"
            ]
          },
          "metadata": {},
          "execution_count": 23
        }
      ]
    },
    {
      "cell_type": "markdown",
      "source": [
        "### converting datatype"
      ],
      "metadata": {
        "id": "jweH81DVFGpU"
      }
    },
    {
      "cell_type": "code",
      "source": [
        "dataT2 = torch.tensor(data, dtype=torch.float32)\n",
        "# dataT2 = torch.tensor(data).float() #Option2\n",
        "\n",
        "dataT3 = torch.tensor(data, dtype=torch.long)\n",
        "# dataT3 = torch.tensor(data).long() #Option2\n",
        "print(f'data T2 : {dataT2.dtype}')\n",
        "print(f'data T3 : {dataT3.dtype}')"
      ],
      "metadata": {
        "colab": {
          "base_uri": "https://localhost:8080/"
        },
        "id": "qXKLTGF0FGAI",
        "outputId": "549271d8-b011-46c1-baa7-9010a1feb1da"
      },
      "execution_count": 17,
      "outputs": [
        {
          "output_type": "stream",
          "name": "stdout",
          "text": [
            "data T2 : torch.float32\n",
            "data T3 : torch.int64\n"
          ]
        }
      ]
    },
    {
      "cell_type": "markdown",
      "source": [
        "### converting to tensor *dataset*"
      ],
      "metadata": {
        "id": "kx90agrvF0Ij"
      }
    },
    {
      "cell_type": "code",
      "source": [
        "dataset = TensorDataset(dataT) # tensor dataset accept tenso type data\n",
        "# dataset is two element tuple x, and y.\n",
        "\n",
        "print(f'len dataset without label : {len(dataset.tensors)}')"
      ],
      "metadata": {
        "colab": {
          "base_uri": "https://localhost:8080/"
        },
        "id": "kvw3QWtMFz0r",
        "outputId": "1302a0a3-c3cb-4164-c7cd-704b354dfac5"
      },
      "execution_count": 28,
      "outputs": [
        {
          "output_type": "stream",
          "name": "stdout",
          "text": [
            "len dataset without label : 1\n"
          ]
        }
      ]
    },
    {
      "cell_type": "markdown",
      "source": [
        "### Tensor Dataset"
      ],
      "metadata": {
        "id": "DSDObSg1I7Ge"
      }
    },
    {
      "cell_type": "code",
      "source": [
        "labels = torch.ceil(torch.linspace(.01,4,n_obeservations))\n",
        "# print(labels)\n",
        "labels = labels.reshape((len(labels),1))\n",
        "\n",
        "dataset = TensorDataset(dataT, labels)\n",
        "print(f'len dataset with label : {len(dataset.tensors)}')\n",
        "print(dataset.tensors[0].shape)\n",
        "print(dataset.tensors[1].shape)\n",
        "\n",
        "dataset[99]"
      ],
      "metadata": {
        "colab": {
          "base_uri": "https://localhost:8080/"
        },
        "id": "_y-_CxjkGsrH",
        "outputId": "6128dd09-7951-4c05-9df2-b2363454c444"
      },
      "execution_count": 47,
      "outputs": [
        {
          "output_type": "stream",
          "name": "stdout",
          "text": [
            "len dataset with label : 2\n",
            "torch.Size([100, 20])\n",
            "torch.Size([100, 1])\n"
          ]
        },
        {
          "output_type": "execute_result",
          "data": {
            "text/plain": [
              "(tensor([0.0669, 0.0146, 0.8544, 0.9757, 0.2134, 0.5268, 0.2855, 0.7775, 0.8331,\n",
              "         0.4470, 0.1062, 0.1624, 0.6905, 0.9204, 0.0870, 0.7155, 0.8592, 0.3187,\n",
              "         0.3391, 0.9278], dtype=torch.float64),\n",
              " tensor([4.]))"
            ]
          },
          "metadata": {},
          "execution_count": 47
        }
      ]
    },
    {
      "cell_type": "markdown",
      "source": [
        "## Data Loaders"
      ],
      "metadata": {
        "id": "1F85SLcCJAZ5"
      }
    },
    {
      "cell_type": "code",
      "source": [
        "batchsize = 25\n",
        "\n",
        "dataloader = DataLoader(dataset, batch_size=batchsize, shuffle=True)\n",
        "dataloader.dataset.tensors[0].shape"
      ],
      "metadata": {
        "colab": {
          "base_uri": "https://localhost:8080/"
        },
        "id": "XHONcCM8Ix1R",
        "outputId": "c2d40bd1-499f-4494-c558-5963d7750901"
      },
      "execution_count": 50,
      "outputs": [
        {
          "output_type": "execute_result",
          "data": {
            "text/plain": [
              "torch.Size([100, 20])"
            ]
          },
          "metadata": {},
          "execution_count": 50
        }
      ]
    },
    {
      "cell_type": "code",
      "source": [
        "for x, y in dataloader:\n",
        "    print(x.shape)\n",
        "    # print(x)\n",
        "    print(y.shape)\n",
        "    print(y.T)\n",
        ""
      ],
      "metadata": {
        "colab": {
          "base_uri": "https://localhost:8080/"
        },
        "id": "wzpvBUZRJxuh",
        "outputId": "349a080b-19d3-4193-96f1-7ff67beca569"
      },
      "execution_count": 55,
      "outputs": [
        {
          "output_type": "stream",
          "name": "stdout",
          "text": [
            "torch.Size([25, 20])\n",
            "torch.Size([25, 1])\n",
            "tensor([[1., 4., 2., 4., 1., 2., 1., 4., 3., 3., 1., 4., 3., 4., 2., 4., 3., 2.,\n",
            "         3., 4., 4., 1., 2., 4., 2.]])\n",
            "torch.Size([25, 20])\n",
            "torch.Size([25, 1])\n",
            "tensor([[1., 3., 1., 4., 2., 4., 4., 3., 3., 4., 1., 3., 1., 2., 3., 3., 2., 1.,\n",
            "         3., 1., 2., 4., 2., 2., 1.]])\n",
            "torch.Size([25, 20])\n",
            "torch.Size([25, 1])\n",
            "tensor([[2., 3., 1., 2., 4., 4., 3., 3., 2., 3., 1., 2., 1., 3., 2., 4., 2., 2.,\n",
            "         1., 3., 4., 4., 2., 2., 1.]])\n",
            "torch.Size([25, 20])\n",
            "torch.Size([25, 1])\n",
            "tensor([[3., 4., 4., 2., 3., 4., 1., 1., 3., 1., 1., 4., 1., 2., 3., 3., 3., 4.,\n",
            "         4., 3., 2., 1., 1., 2., 1.]])\n"
          ]
        }
      ]
    },
    {
      "cell_type": "code",
      "source": [
        "x,y = next(iter(dataloader))\n",
        "print(x.shape)\n",
        "print(y.shape)"
      ],
      "metadata": {
        "colab": {
          "base_uri": "https://localhost:8080/"
        },
        "id": "rCBXZgCzJ-78",
        "outputId": "7ae0e116-24d8-46fe-a972-5001c3f9a4a9"
      },
      "execution_count": 57,
      "outputs": [
        {
          "output_type": "stream",
          "name": "stdout",
          "text": [
            "torch.Size([25, 20])\n",
            "torch.Size([25, 1])\n"
          ]
        }
      ]
    }
  ]
}