{
  "nbformat": 4,
  "nbformat_minor": 0,
  "metadata": {
    "colab": {
      "provenance": [],
      "authorship_tag": "ABX9TyNyhDtRKLjJEARyvjES+LTm",
      "include_colab_link": true
    },
    "kernelspec": {
      "name": "python3",
      "display_name": "Python 3"
    },
    "language_info": {
      "name": "python"
    }
  },
  "cells": [
    {
      "cell_type": "markdown",
      "metadata": {
        "id": "view-in-github",
        "colab_type": "text"
      },
      "source": [
        "<a href=\"https://colab.research.google.com/github/alwanfa/neural-network-exploration/blob/main/DUDL_weights_identicalRandom.ipynb\" target=\"_parent\"><img src=\"https://colab.research.google.com/assets/colab-badge.svg\" alt=\"Open In Colab\"/></a>"
      ]
    },
    {
      "cell_type": "code",
      "execution_count": 8,
      "metadata": {
        "id": "MaZxJiFT7s66"
      },
      "outputs": [],
      "source": [
        "import torch\n",
        "import torch.nn as nn\n",
        "import torch.nn.functional as F\n",
        "from torch.utils.data import DataLoader\n",
        "from sklearn.model_selection import train_test_split\n",
        "import copy\n",
        "\n",
        "import numpy as np\n",
        "import scipy.stats as stats\n",
        "\n",
        "import pandas as pd\n",
        "\n",
        "import matplotlib.pyplot as plt\n",
        "import matplotlib_inline.backend_inline\n",
        "matplotlib_inline.backend_inline.set_matplotlib_formats('svg')"
      ]
    },
    {
      "cell_type": "code",
      "source": [
        "net = nn.Sequential(\n",
        "    nn.Linear(2, 8),\n",
        "    nn.Linear(8,1),\n",
        "    nn.Linear(1,1)\n",
        ")"
      ],
      "metadata": {
        "id": "Swa2YxPC9qLi"
      },
      "execution_count": 5,
      "outputs": []
    },
    {
      "cell_type": "code",
      "source": [
        "net_noseed = copy.deepcopy(net)\n",
        "for p in net_noseed.named_parameters():\n",
        "  if 'weight' in p[0] :\n",
        "    nn.init.xavier_normal_(p[1].data)"
      ],
      "metadata": {
        "id": "oT7e7--e9-_L"
      },
      "execution_count": 32,
      "outputs": []
    },
    {
      "cell_type": "code",
      "source": [
        "net_rs1a = copy.deepcopy(net)\n",
        "\n",
        "torch.manual_seed(1)\n",
        "for p in net_rs1a.named_parameters():\n",
        "  if 'weight' in p[0] :\n",
        "    nn.init.xavier_normal_(p[1].data)"
      ],
      "metadata": {
        "id": "YZmCFB_4AG3z"
      },
      "execution_count": 11,
      "outputs": []
    },
    {
      "cell_type": "code",
      "source": [
        "net_rs2 = copy.deepcopy(net)\n",
        "\n",
        "torch.manual_seed(2)\n",
        "for p in net_rs2.named_parameters():\n",
        "  if 'weight' in p[0] :\n",
        "    nn.init.xavier_normal_(p[1].data)"
      ],
      "metadata": {
        "id": "OTRTfP-cAere"
      },
      "execution_count": 13,
      "outputs": []
    },
    {
      "cell_type": "code",
      "source": [
        "net_rs1b = copy.deepcopy(net)\n",
        "\n",
        "torch.manual_seed(1)\n",
        "for p in net_rs1b.named_parameters():\n",
        "  if 'weight' in p[0] :\n",
        "    nn.init.xavier_normal_(p[1].data)"
      ],
      "metadata": {
        "id": "cQvPPYJHAbe2"
      },
      "execution_count": 12,
      "outputs": []
    },
    {
      "cell_type": "code",
      "source": [
        "net_noseed_params = []\n",
        "net_rs1a_params = []\n",
        "net_rs2_params = []\n",
        "net_rs1b_params = []\n",
        "for i in range(3):\n",
        "  net_noseed_params = np.append(net_noseed_params, net_noseed[i].weight.view(-1).detach().numpy())\n",
        "  net_rs1a_params = np.append(net_rs1a_params, net_rs1a[i].weight.view(-1).detach().numpy())\n",
        "  net_rs2_params = np.append(net_rs2_params, net_rs2[i].weight.view(-1).detach().numpy())\n",
        "  net_rs1b_params = np.append(net_rs1b_params, net_rs1b[i].weight.view(-1).detach().numpy())\n",
        "\n",
        "net_noseed_params"
      ],
      "metadata": {
        "colab": {
          "base_uri": "https://localhost:8080/"
        },
        "id": "3_2CPmtlETPr",
        "outputId": "c3e6b11c-af21-4ac1-f56a-43f7097b7c93"
      },
      "execution_count": 36,
      "outputs": [
        {
          "output_type": "execute_result",
          "data": {
            "text/plain": [
              "array([-0.57887799, -0.0108729 , -0.10525607, -0.31694451, -0.38743234,\n",
              "       -0.11879336,  0.0744812 ,  0.35378987, -0.41679466, -0.38364869,\n",
              "       -0.43144175, -0.04433924, -0.1338803 , -0.02905761, -0.70302397,\n",
              "       -0.59080237, -0.1124182 ,  0.07350384, -0.0757714 ,  0.19668585,\n",
              "        0.47157577,  0.28320196,  0.05175803, -0.39651364, -0.29079723])"
            ]
          },
          "metadata": {},
          "execution_count": 36
        }
      ]
    },
    {
      "cell_type": "code",
      "source": [
        "fig = plt.figure(figsize = (15,5))\n",
        "\n",
        "plt.plot(net_noseed_params, 'ro', label = \"no seed\", markersize = 12)\n",
        "plt.plot(net_rs1a_params, 'ks', label = \"seed 1 A\", markersize = 12)\n",
        "plt.plot(net_rs1b_params, 'y^', label = \"seed 1 B\", markersize = 12)\n",
        "plt.plot(net_rs2_params, 'g+', label = \"seed 2\", markersize = 12)\n",
        "plt.legend()\n",
        "plt.plot()"
      ],
      "metadata": {
        "colab": {
          "base_uri": "https://localhost:8080/",
          "height": 469
        },
        "id": "4eDL1jLoFvmT",
        "outputId": "42852137-1dd3-442a-abf8-ddb5eb030bb4"
      },
      "execution_count": 42,
      "outputs": [
        {
          "output_type": "execute_result",
          "data": {
            "text/plain": [
              "[]"
            ]
          },
          "metadata": {},
          "execution_count": 42
        },
        {
          "output_type": "display_data",
          "data": {
            "text/plain": [
              "<Figure size 1500x500 with 1 Axes>"
            ],
            "image/svg+xml": "<?xml version=\"1.0\" encoding=\"utf-8\" standalone=\"no\"?>\n<!DOCTYPE svg PUBLIC \"-//W3C//DTD SVG 1.1//EN\"\n  \"http://www.w3.org/Graphics/SVG/1.1/DTD/svg11.dtd\">\n<svg xmlns:xlink=\"http://www.w3.org/1999/xlink\" width=\"882.704403pt\" height=\"308.278125pt\" viewBox=\"0 0 882.704403 308.278125\" xmlns=\"http://www.w3.org/2000/svg\" version=\"1.1\">\n <metadata>\n  <rdf:RDF xmlns:dc=\"http://purl.org/dc/elements/1.1/\" xmlns:cc=\"http://creativecommons.org/ns#\" xmlns:rdf=\"http://www.w3.org/1999/02/22-rdf-syntax-ns#\">\n   <cc:Work>\n    <dc:type rdf:resource=\"http://purl.org/dc/dcmitype/StillImage\"/>\n    <dc:date>2024-08-12T05:40:15.290991</dc:date>\n    <dc:format>image/svg+xml</dc:format>\n    <dc:creator>\n     <cc:Agent>\n      <dc:title>Matplotlib v3.7.1, https://matplotlib.org/</dc:title>\n     </cc:Agent>\n    </dc:creator>\n   </cc:Work>\n  </rdf:RDF>\n </metadata>\n <defs>\n  <style type=\"text/css\">*{stroke-linejoin: round; stroke-linecap: butt}</style>\n </defs>\n <g id=\"figure_1\">\n  <g id=\"patch_1\">\n   <path d=\"M 0 308.278125 \nL 882.704403 308.278125 \nL 882.704403 0 \nL 0 0 \nz\n\" style=\"fill: #ffffff\"/>\n  </g>\n  <g id=\"axes_1\">\n   <g id=\"patch_2\">\n    <path d=\"M 38.482813 284.4 \nL 875.482813 284.4 \nL 875.482813 7.2 \nL 38.482813 7.2 \nz\n\" style=\"fill: #ffffff\"/>\n   </g>\n   <g id=\"matplotlib.axis_1\">\n    <g id=\"xtick_1\">\n     <g id=\"line2d_1\">\n      <defs>\n       <path id=\"m97d44aadca\" d=\"M 0 0 \nL 0 3.5 \n\" style=\"stroke: #000000; stroke-width: 0.8\"/>\n      </defs>\n      <g>\n       <use xlink:href=\"#m97d44aadca\" x=\"76.528267\" y=\"284.4\" style=\"stroke: #000000; stroke-width: 0.8\"/>\n      </g>\n     </g>\n     <g id=\"text_1\">\n      <!-- 0 -->\n      <g transform=\"translate(73.347017 298.998438) scale(0.1 -0.1)\">\n       <defs>\n        <path id=\"DejaVuSans-30\" d=\"M 2034 4250 \nQ 1547 4250 1301 3770 \nQ 1056 3291 1056 2328 \nQ 1056 1369 1301 889 \nQ 1547 409 2034 409 \nQ 2525 409 2770 889 \nQ 3016 1369 3016 2328 \nQ 3016 3291 2770 3770 \nQ 2525 4250 2034 4250 \nz\nM 2034 4750 \nQ 2819 4750 3233 4129 \nQ 3647 3509 3647 2328 \nQ 3647 1150 3233 529 \nQ 2819 -91 2034 -91 \nQ 1250 -91 836 529 \nQ 422 1150 422 2328 \nQ 422 3509 836 4129 \nQ 1250 4750 2034 4750 \nz\n\" transform=\"scale(0.015625)\"/>\n       </defs>\n       <use xlink:href=\"#DejaVuSans-30\"/>\n      </g>\n     </g>\n    </g>\n    <g id=\"xtick_2\">\n     <g id=\"line2d_2\">\n      <g>\n       <use xlink:href=\"#m97d44aadca\" x=\"235.050994\" y=\"284.4\" style=\"stroke: #000000; stroke-width: 0.8\"/>\n      </g>\n     </g>\n     <g id=\"text_2\">\n      <!-- 5 -->\n      <g transform=\"translate(231.869744 298.998438) scale(0.1 -0.1)\">\n       <defs>\n        <path id=\"DejaVuSans-35\" d=\"M 691 4666 \nL 3169 4666 \nL 3169 4134 \nL 1269 4134 \nL 1269 2991 \nQ 1406 3038 1543 3061 \nQ 1681 3084 1819 3084 \nQ 2600 3084 3056 2656 \nQ 3513 2228 3513 1497 \nQ 3513 744 3044 326 \nQ 2575 -91 1722 -91 \nQ 1428 -91 1123 -41 \nQ 819 9 494 109 \nL 494 744 \nQ 775 591 1075 516 \nQ 1375 441 1709 441 \nQ 2250 441 2565 725 \nQ 2881 1009 2881 1497 \nQ 2881 1984 2565 2268 \nQ 2250 2553 1709 2553 \nQ 1456 2553 1204 2497 \nQ 953 2441 691 2322 \nL 691 4666 \nz\n\" transform=\"scale(0.015625)\"/>\n       </defs>\n       <use xlink:href=\"#DejaVuSans-35\"/>\n      </g>\n     </g>\n    </g>\n    <g id=\"xtick_3\">\n     <g id=\"line2d_3\">\n      <g>\n       <use xlink:href=\"#m97d44aadca\" x=\"393.573722\" y=\"284.4\" style=\"stroke: #000000; stroke-width: 0.8\"/>\n      </g>\n     </g>\n     <g id=\"text_3\">\n      <!-- 10 -->\n      <g transform=\"translate(387.211222 298.998438) scale(0.1 -0.1)\">\n       <defs>\n        <path id=\"DejaVuSans-31\" d=\"M 794 531 \nL 1825 531 \nL 1825 4091 \nL 703 3866 \nL 703 4441 \nL 1819 4666 \nL 2450 4666 \nL 2450 531 \nL 3481 531 \nL 3481 0 \nL 794 0 \nL 794 531 \nz\n\" transform=\"scale(0.015625)\"/>\n       </defs>\n       <use xlink:href=\"#DejaVuSans-31\"/>\n       <use xlink:href=\"#DejaVuSans-30\" x=\"63.623047\"/>\n      </g>\n     </g>\n    </g>\n    <g id=\"xtick_4\">\n     <g id=\"line2d_4\">\n      <g>\n       <use xlink:href=\"#m97d44aadca\" x=\"552.096449\" y=\"284.4\" style=\"stroke: #000000; stroke-width: 0.8\"/>\n      </g>\n     </g>\n     <g id=\"text_4\">\n      <!-- 15 -->\n      <g transform=\"translate(545.733949 298.998438) scale(0.1 -0.1)\">\n       <use xlink:href=\"#DejaVuSans-31\"/>\n       <use xlink:href=\"#DejaVuSans-35\" x=\"63.623047\"/>\n      </g>\n     </g>\n    </g>\n    <g id=\"xtick_5\">\n     <g id=\"line2d_5\">\n      <g>\n       <use xlink:href=\"#m97d44aadca\" x=\"710.619176\" y=\"284.4\" style=\"stroke: #000000; stroke-width: 0.8\"/>\n      </g>\n     </g>\n     <g id=\"text_5\">\n      <!-- 20 -->\n      <g transform=\"translate(704.256676 298.998438) scale(0.1 -0.1)\">\n       <defs>\n        <path id=\"DejaVuSans-32\" d=\"M 1228 531 \nL 3431 531 \nL 3431 0 \nL 469 0 \nL 469 531 \nQ 828 903 1448 1529 \nQ 2069 2156 2228 2338 \nQ 2531 2678 2651 2914 \nQ 2772 3150 2772 3378 \nQ 2772 3750 2511 3984 \nQ 2250 4219 1831 4219 \nQ 1534 4219 1204 4116 \nQ 875 4013 500 3803 \nL 500 4441 \nQ 881 4594 1212 4672 \nQ 1544 4750 1819 4750 \nQ 2544 4750 2975 4387 \nQ 3406 4025 3406 3419 \nQ 3406 3131 3298 2873 \nQ 3191 2616 2906 2266 \nQ 2828 2175 2409 1742 \nQ 1991 1309 1228 531 \nz\n\" transform=\"scale(0.015625)\"/>\n       </defs>\n       <use xlink:href=\"#DejaVuSans-32\"/>\n       <use xlink:href=\"#DejaVuSans-30\" x=\"63.623047\"/>\n      </g>\n     </g>\n    </g>\n    <g id=\"xtick_6\">\n     <g id=\"line2d_6\">\n      <g>\n       <use xlink:href=\"#m97d44aadca\" x=\"869.141903\" y=\"284.4\" style=\"stroke: #000000; stroke-width: 0.8\"/>\n      </g>\n     </g>\n     <g id=\"text_6\">\n      <!-- 25 -->\n      <g transform=\"translate(862.779403 298.998438) scale(0.1 -0.1)\">\n       <use xlink:href=\"#DejaVuSans-32\"/>\n       <use xlink:href=\"#DejaVuSans-35\" x=\"63.623047\"/>\n      </g>\n     </g>\n    </g>\n   </g>\n   <g id=\"matplotlib.axis_2\">\n    <g id=\"ytick_1\">\n     <g id=\"line2d_7\">\n      <defs>\n       <path id=\"mb5d70bfa6b\" d=\"M 0 0 \nL -3.5 0 \n\" style=\"stroke: #000000; stroke-width: 0.8\"/>\n      </defs>\n      <g>\n       <use xlink:href=\"#mb5d70bfa6b\" x=\"38.482813\" y=\"251.325351\" style=\"stroke: #000000; stroke-width: 0.8\"/>\n      </g>\n     </g>\n     <g id=\"text_7\">\n      <!-- −0.6 -->\n      <g transform=\"translate(7.2 255.124569) scale(0.1 -0.1)\">\n       <defs>\n        <path id=\"DejaVuSans-2212\" d=\"M 678 2272 \nL 4684 2272 \nL 4684 1741 \nL 678 1741 \nL 678 2272 \nz\n\" transform=\"scale(0.015625)\"/>\n        <path id=\"DejaVuSans-2e\" d=\"M 684 794 \nL 1344 794 \nL 1344 0 \nL 684 0 \nL 684 794 \nz\n\" transform=\"scale(0.015625)\"/>\n        <path id=\"DejaVuSans-36\" d=\"M 2113 2584 \nQ 1688 2584 1439 2293 \nQ 1191 2003 1191 1497 \nQ 1191 994 1439 701 \nQ 1688 409 2113 409 \nQ 2538 409 2786 701 \nQ 3034 994 3034 1497 \nQ 3034 2003 2786 2293 \nQ 2538 2584 2113 2584 \nz\nM 3366 4563 \nL 3366 3988 \nQ 3128 4100 2886 4159 \nQ 2644 4219 2406 4219 \nQ 1781 4219 1451 3797 \nQ 1122 3375 1075 2522 \nQ 1259 2794 1537 2939 \nQ 1816 3084 2150 3084 \nQ 2853 3084 3261 2657 \nQ 3669 2231 3669 1497 \nQ 3669 778 3244 343 \nQ 2819 -91 2113 -91 \nQ 1303 -91 875 529 \nQ 447 1150 447 2328 \nQ 447 3434 972 4092 \nQ 1497 4750 2381 4750 \nQ 2619 4750 2861 4703 \nQ 3103 4656 3366 4563 \nz\n\" transform=\"scale(0.015625)\"/>\n       </defs>\n       <use xlink:href=\"#DejaVuSans-2212\"/>\n       <use xlink:href=\"#DejaVuSans-30\" x=\"83.789062\"/>\n       <use xlink:href=\"#DejaVuSans-2e\" x=\"147.412109\"/>\n       <use xlink:href=\"#DejaVuSans-36\" x=\"179.199219\"/>\n      </g>\n     </g>\n    </g>\n    <g id=\"ytick_2\">\n     <g id=\"line2d_8\">\n      <g>\n       <use xlink:href=\"#mb5d70bfa6b\" x=\"38.482813\" y=\"217.139253\" style=\"stroke: #000000; stroke-width: 0.8\"/>\n      </g>\n     </g>\n     <g id=\"text_8\">\n      <!-- −0.4 -->\n      <g transform=\"translate(7.2 220.938472) scale(0.1 -0.1)\">\n       <defs>\n        <path id=\"DejaVuSans-34\" d=\"M 2419 4116 \nL 825 1625 \nL 2419 1625 \nL 2419 4116 \nz\nM 2253 4666 \nL 3047 4666 \nL 3047 1625 \nL 3713 1625 \nL 3713 1100 \nL 3047 1100 \nL 3047 0 \nL 2419 0 \nL 2419 1100 \nL 313 1100 \nL 313 1709 \nL 2253 4666 \nz\n\" transform=\"scale(0.015625)\"/>\n       </defs>\n       <use xlink:href=\"#DejaVuSans-2212\"/>\n       <use xlink:href=\"#DejaVuSans-30\" x=\"83.789062\"/>\n       <use xlink:href=\"#DejaVuSans-2e\" x=\"147.412109\"/>\n       <use xlink:href=\"#DejaVuSans-34\" x=\"179.199219\"/>\n      </g>\n     </g>\n    </g>\n    <g id=\"ytick_3\">\n     <g id=\"line2d_9\">\n      <g>\n       <use xlink:href=\"#mb5d70bfa6b\" x=\"38.482813\" y=\"182.953156\" style=\"stroke: #000000; stroke-width: 0.8\"/>\n      </g>\n     </g>\n     <g id=\"text_9\">\n      <!-- −0.2 -->\n      <g transform=\"translate(7.2 186.752374) scale(0.1 -0.1)\">\n       <use xlink:href=\"#DejaVuSans-2212\"/>\n       <use xlink:href=\"#DejaVuSans-30\" x=\"83.789062\"/>\n       <use xlink:href=\"#DejaVuSans-2e\" x=\"147.412109\"/>\n       <use xlink:href=\"#DejaVuSans-32\" x=\"179.199219\"/>\n      </g>\n     </g>\n    </g>\n    <g id=\"ytick_4\">\n     <g id=\"line2d_10\">\n      <g>\n       <use xlink:href=\"#mb5d70bfa6b\" x=\"38.482813\" y=\"148.767058\" style=\"stroke: #000000; stroke-width: 0.8\"/>\n      </g>\n     </g>\n     <g id=\"text_10\">\n      <!-- 0.0 -->\n      <g transform=\"translate(15.579688 152.566277) scale(0.1 -0.1)\">\n       <use xlink:href=\"#DejaVuSans-30\"/>\n       <use xlink:href=\"#DejaVuSans-2e\" x=\"63.623047\"/>\n       <use xlink:href=\"#DejaVuSans-30\" x=\"95.410156\"/>\n      </g>\n     </g>\n    </g>\n    <g id=\"ytick_5\">\n     <g id=\"line2d_11\">\n      <g>\n       <use xlink:href=\"#mb5d70bfa6b\" x=\"38.482813\" y=\"114.580961\" style=\"stroke: #000000; stroke-width: 0.8\"/>\n      </g>\n     </g>\n     <g id=\"text_11\">\n      <!-- 0.2 -->\n      <g transform=\"translate(15.579688 118.380179) scale(0.1 -0.1)\">\n       <use xlink:href=\"#DejaVuSans-30\"/>\n       <use xlink:href=\"#DejaVuSans-2e\" x=\"63.623047\"/>\n       <use xlink:href=\"#DejaVuSans-32\" x=\"95.410156\"/>\n      </g>\n     </g>\n    </g>\n    <g id=\"ytick_6\">\n     <g id=\"line2d_12\">\n      <g>\n       <use xlink:href=\"#mb5d70bfa6b\" x=\"38.482813\" y=\"80.394863\" style=\"stroke: #000000; stroke-width: 0.8\"/>\n      </g>\n     </g>\n     <g id=\"text_12\">\n      <!-- 0.4 -->\n      <g transform=\"translate(15.579688 84.194082) scale(0.1 -0.1)\">\n       <use xlink:href=\"#DejaVuSans-30\"/>\n       <use xlink:href=\"#DejaVuSans-2e\" x=\"63.623047\"/>\n       <use xlink:href=\"#DejaVuSans-34\" x=\"95.410156\"/>\n      </g>\n     </g>\n    </g>\n    <g id=\"ytick_7\">\n     <g id=\"line2d_13\">\n      <g>\n       <use xlink:href=\"#mb5d70bfa6b\" x=\"38.482813\" y=\"46.208766\" style=\"stroke: #000000; stroke-width: 0.8\"/>\n      </g>\n     </g>\n     <g id=\"text_13\">\n      <!-- 0.6 -->\n      <g transform=\"translate(15.579688 50.007984) scale(0.1 -0.1)\">\n       <use xlink:href=\"#DejaVuSans-30\"/>\n       <use xlink:href=\"#DejaVuSans-2e\" x=\"63.623047\"/>\n       <use xlink:href=\"#DejaVuSans-36\" x=\"95.410156\"/>\n      </g>\n     </g>\n    </g>\n    <g id=\"ytick_8\">\n     <g id=\"line2d_14\">\n      <g>\n       <use xlink:href=\"#mb5d70bfa6b\" x=\"38.482813\" y=\"12.022668\" style=\"stroke: #000000; stroke-width: 0.8\"/>\n      </g>\n     </g>\n     <g id=\"text_14\">\n      <!-- 0.8 -->\n      <g transform=\"translate(15.579688 15.821887) scale(0.1 -0.1)\">\n       <defs>\n        <path id=\"DejaVuSans-38\" d=\"M 2034 2216 \nQ 1584 2216 1326 1975 \nQ 1069 1734 1069 1313 \nQ 1069 891 1326 650 \nQ 1584 409 2034 409 \nQ 2484 409 2743 651 \nQ 3003 894 3003 1313 \nQ 3003 1734 2745 1975 \nQ 2488 2216 2034 2216 \nz\nM 1403 2484 \nQ 997 2584 770 2862 \nQ 544 3141 544 3541 \nQ 544 4100 942 4425 \nQ 1341 4750 2034 4750 \nQ 2731 4750 3128 4425 \nQ 3525 4100 3525 3541 \nQ 3525 3141 3298 2862 \nQ 3072 2584 2669 2484 \nQ 3125 2378 3379 2068 \nQ 3634 1759 3634 1313 \nQ 3634 634 3220 271 \nQ 2806 -91 2034 -91 \nQ 1263 -91 848 271 \nQ 434 634 434 1313 \nQ 434 1759 690 2068 \nQ 947 2378 1403 2484 \nz\nM 1172 3481 \nQ 1172 3119 1398 2916 \nQ 1625 2713 2034 2713 \nQ 2441 2713 2670 2916 \nQ 2900 3119 2900 3481 \nQ 2900 3844 2670 4047 \nQ 2441 4250 2034 4250 \nQ 1625 4250 1398 4047 \nQ 1172 3844 1172 3481 \nz\n\" transform=\"scale(0.015625)\"/>\n       </defs>\n       <use xlink:href=\"#DejaVuSans-30\"/>\n       <use xlink:href=\"#DejaVuSans-2e\" x=\"63.623047\"/>\n       <use xlink:href=\"#DejaVuSans-38\" x=\"95.410156\"/>\n      </g>\n     </g>\n    </g>\n   </g>\n   <g id=\"line2d_15\">\n    <defs>\n     <path id=\"m1fcff155e8\" d=\"M 0 6 \nC 1.591219 6 3.117479 5.367802 4.242641 4.242641 \nC 5.367802 3.117479 6 1.591219 6 0 \nC 6 -1.591219 5.367802 -3.117479 4.242641 -4.242641 \nC 3.117479 -5.367802 1.591219 -6 0 -6 \nC -1.591219 -6 -3.117479 -5.367802 -4.242641 -4.242641 \nC -5.367802 -3.117479 -6 -1.591219 -6 0 \nC -6 1.591219 -5.367802 3.117479 -4.242641 4.242641 \nC -3.117479 5.367802 -1.591219 6 0 6 \nz\n\" style=\"stroke: #ff0000\"/>\n    </defs>\n    <g clip-path=\"url(#pca24c0b0d8)\">\n     <use xlink:href=\"#m1fcff155e8\" x=\"76.528267\" y=\"247.714954\" style=\"fill: #ff0000; stroke: #ff0000\"/>\n     <use xlink:href=\"#m1fcff155e8\" x=\"108.232813\" y=\"150.625567\" style=\"fill: #ff0000; stroke: #ff0000\"/>\n     <use xlink:href=\"#m1fcff155e8\" x=\"139.937358\" y=\"166.758529\" style=\"fill: #ff0000; stroke: #ff0000\"/>\n     <use xlink:href=\"#m1fcff155e8\" x=\"171.641903\" y=\"202.942538\" style=\"fill: #ff0000; stroke: #ff0000\"/>\n     <use xlink:href=\"#m1fcff155e8\" x=\"203.346449\" y=\"214.991056\" style=\"fill: #ff0000; stroke: #ff0000\"/>\n     <use xlink:href=\"#m1fcff155e8\" x=\"235.050994\" y=\"169.072465\" style=\"fill: #ff0000; stroke: #ff0000\"/>\n     <use xlink:href=\"#m1fcff155e8\" x=\"266.75554\" y=\"136.03595\" style=\"fill: #ff0000; stroke: #ff0000\"/>\n     <use xlink:href=\"#m1fcff155e8\" x=\"298.460085\" y=\"88.293584\" style=\"fill: #ff0000; stroke: #ff0000\"/>\n     <use xlink:href=\"#m1fcff155e8\" x=\"330.164631\" y=\"220.009972\" style=\"fill: #ff0000; stroke: #ff0000\"/>\n     <use xlink:href=\"#m1fcff155e8\" x=\"361.869176\" y=\"214.344316\" style=\"fill: #ff0000; stroke: #ff0000\"/>\n     <use xlink:href=\"#m1fcff155e8\" x=\"393.573722\" y=\"222.513607\" style=\"fill: #ff0000; stroke: #ff0000\"/>\n     <use xlink:href=\"#m1fcff155e8\" x=\"425.278267\" y=\"156.345985\" style=\"fill: #ff0000; stroke: #ff0000\"/>\n     <use xlink:href=\"#m1fcff155e8\" x=\"456.982813\" y=\"171.651283\" style=\"fill: #ff0000; stroke: #ff0000\"/>\n     <use xlink:href=\"#m1fcff155e8\" x=\"488.687358\" y=\"153.73389\" style=\"fill: #ff0000; stroke: #ff0000\"/>\n     <use xlink:href=\"#m1fcff155e8\" x=\"520.391903\" y=\"268.935288\" style=\"fill: #ff0000; stroke: #ff0000\"/>\n     <use xlink:href=\"#m1fcff155e8\" x=\"552.096449\" y=\"249.753195\" style=\"fill: #ff0000; stroke: #ff0000\"/>\n     <use xlink:href=\"#m1fcff155e8\" x=\"583.800994\" y=\"167.982755\" style=\"fill: #ff0000; stroke: #ff0000\"/>\n     <use xlink:href=\"#m1fcff155e8\" x=\"615.50554\" y=\"136.203011\" style=\"fill: #ff0000; stroke: #ff0000\"/>\n     <use xlink:href=\"#m1fcff155e8\" x=\"647.210085\" y=\"161.7187\" style=\"fill: #ff0000; stroke: #ff0000\"/>\n     <use xlink:href=\"#m1fcff155e8\" x=\"678.914631\" y=\"115.14745\" style=\"fill: #ff0000; stroke: #ff0000\"/>\n     <use xlink:href=\"#m1fcff155e8\" x=\"710.619176\" y=\"68.160382\" style=\"fill: #ff0000; stroke: #ff0000\"/>\n     <use xlink:href=\"#m1fcff155e8\" x=\"742.323722\" y=\"100.359209\" style=\"fill: #ff0000; stroke: #ff0000\"/>\n     <use xlink:href=\"#m1fcff155e8\" x=\"774.028267\" y=\"139.920032\" style=\"fill: #ff0000; stroke: #ff0000\"/>\n     <use xlink:href=\"#m1fcff155e8\" x=\"805.732813\" y=\"216.543328\" style=\"fill: #ff0000; stroke: #ff0000\"/>\n     <use xlink:href=\"#m1fcff155e8\" x=\"837.437358\" y=\"198.473171\" style=\"fill: #ff0000; stroke: #ff0000\"/>\n    </g>\n   </g>\n   <g id=\"line2d_16\">\n    <defs>\n     <path id=\"m0deaf04b74\" d=\"M -6 6 \nL 6 6 \nL 6 -6 \nL -6 -6 \nz\n\" style=\"stroke: #000000; stroke-linejoin: miter\"/>\n    </defs>\n    <g clip-path=\"url(#pca24c0b0d8)\">\n     <use xlink:href=\"#m0deaf04b74\" x=\"76.528267\" y=\"265.387331\" style=\"stroke: #000000; stroke-linejoin: miter\"/>\n     <use xlink:href=\"#m0deaf04b74\" x=\"108.232813\" y=\"206.116606\" style=\"stroke: #000000; stroke-linejoin: miter\"/>\n     <use xlink:href=\"#m0deaf04b74\" x=\"139.937358\" y=\"198.758951\" style=\"stroke: #000000; stroke-linejoin: miter\"/>\n     <use xlink:href=\"#m0deaf04b74\" x=\"171.641903\" y=\"271.8\" style=\"stroke: #000000; stroke-linejoin: miter\"/>\n     <use xlink:href=\"#m0deaf04b74\" x=\"203.346449\" y=\"156.424081\" style=\"stroke: #000000; stroke-linejoin: miter\"/>\n     <use xlink:href=\"#m0deaf04b74\" x=\"235.050994\" y=\"195.334945\" style=\"stroke: #000000; stroke-linejoin: miter\"/>\n     <use xlink:href=\"#m0deaf04b74\" x=\"266.75554\" y=\"223.663239\" style=\"stroke: #000000; stroke-linejoin: miter\"/>\n     <use xlink:href=\"#m0deaf04b74\" x=\"298.460085\" y=\"271.770301\" style=\"stroke: #000000; stroke-linejoin: miter\"/>\n     <use xlink:href=\"#m0deaf04b74\" x=\"330.164631\" y=\"203.20513\" style=\"stroke: #000000; stroke-linejoin: miter\"/>\n     <use xlink:href=\"#m0deaf04b74\" x=\"361.869176\" y=\"125.549809\" style=\"stroke: #000000; stroke-linejoin: miter\"/>\n     <use xlink:href=\"#m0deaf04b74\" x=\"393.573722\" y=\"208.186858\" style=\"stroke: #000000; stroke-linejoin: miter\"/>\n     <use xlink:href=\"#m0deaf04b74\" x=\"425.278267\" y=\"167.98891\" style=\"stroke: #000000; stroke-linejoin: miter\"/>\n     <use xlink:href=\"#m0deaf04b74\" x=\"456.982813\" y=\"165.757956\" style=\"stroke: #000000; stroke-linejoin: miter\"/>\n     <use xlink:href=\"#m0deaf04b74\" x=\"488.687358\" y=\"19.8\" style=\"stroke: #000000; stroke-linejoin: miter\"/>\n     <use xlink:href=\"#m0deaf04b74\" x=\"520.391903\" y=\"131.305681\" style=\"stroke: #000000; stroke-linejoin: miter\"/>\n     <use xlink:href=\"#m0deaf04b74\" x=\"552.096449\" y=\"113.01986\" style=\"stroke: #000000; stroke-linejoin: miter\"/>\n     <use xlink:href=\"#m0deaf04b74\" x=\"583.800994\" y=\"231.569088\" style=\"stroke: #000000; stroke-linejoin: miter\"/>\n     <use xlink:href=\"#m0deaf04b74\" x=\"615.50554\" y=\"194.136389\" style=\"stroke: #000000; stroke-linejoin: miter\"/>\n     <use xlink:href=\"#m0deaf04b74\" x=\"647.210085\" y=\"220.66551\" style=\"stroke: #000000; stroke-linejoin: miter\"/>\n     <use xlink:href=\"#m0deaf04b74\" x=\"678.914631\" y=\"153.460706\" style=\"stroke: #000000; stroke-linejoin: miter\"/>\n     <use xlink:href=\"#m0deaf04b74\" x=\"710.619176\" y=\"164.520713\" style=\"stroke: #000000; stroke-linejoin: miter\"/>\n     <use xlink:href=\"#m0deaf04b74\" x=\"742.323722\" y=\"226.575495\" style=\"stroke: #000000; stroke-linejoin: miter\"/>\n     <use xlink:href=\"#m0deaf04b74\" x=\"774.028267\" y=\"114.729928\" style=\"stroke: #000000; stroke-linejoin: miter\"/>\n     <use xlink:href=\"#m0deaf04b74\" x=\"805.732813\" y=\"127.227348\" style=\"stroke: #000000; stroke-linejoin: miter\"/>\n     <use xlink:href=\"#m0deaf04b74\" x=\"837.437358\" y=\"220.76215\" style=\"stroke: #000000; stroke-linejoin: miter\"/>\n    </g>\n   </g>\n   <g id=\"line2d_17\">\n    <defs>\n     <path id=\"mcec916505f\" d=\"M 0 -6 \nL -6 6 \nL 6 6 \nz\n\" style=\"stroke: #bfbf00; stroke-linejoin: miter\"/>\n    </defs>\n    <g clip-path=\"url(#pca24c0b0d8)\">\n     <use xlink:href=\"#mcec916505f\" x=\"76.528267\" y=\"265.387331\" style=\"fill: #bfbf00; stroke: #bfbf00; stroke-linejoin: miter\"/>\n     <use xlink:href=\"#mcec916505f\" x=\"108.232813\" y=\"206.116606\" style=\"fill: #bfbf00; stroke: #bfbf00; stroke-linejoin: miter\"/>\n     <use xlink:href=\"#mcec916505f\" x=\"139.937358\" y=\"198.758951\" style=\"fill: #bfbf00; stroke: #bfbf00; stroke-linejoin: miter\"/>\n     <use xlink:href=\"#mcec916505f\" x=\"171.641903\" y=\"271.8\" style=\"fill: #bfbf00; stroke: #bfbf00; stroke-linejoin: miter\"/>\n     <use xlink:href=\"#mcec916505f\" x=\"203.346449\" y=\"156.424081\" style=\"fill: #bfbf00; stroke: #bfbf00; stroke-linejoin: miter\"/>\n     <use xlink:href=\"#mcec916505f\" x=\"235.050994\" y=\"195.334945\" style=\"fill: #bfbf00; stroke: #bfbf00; stroke-linejoin: miter\"/>\n     <use xlink:href=\"#mcec916505f\" x=\"266.75554\" y=\"223.663239\" style=\"fill: #bfbf00; stroke: #bfbf00; stroke-linejoin: miter\"/>\n     <use xlink:href=\"#mcec916505f\" x=\"298.460085\" y=\"271.770301\" style=\"fill: #bfbf00; stroke: #bfbf00; stroke-linejoin: miter\"/>\n     <use xlink:href=\"#mcec916505f\" x=\"330.164631\" y=\"203.20513\" style=\"fill: #bfbf00; stroke: #bfbf00; stroke-linejoin: miter\"/>\n     <use xlink:href=\"#mcec916505f\" x=\"361.869176\" y=\"125.549809\" style=\"fill: #bfbf00; stroke: #bfbf00; stroke-linejoin: miter\"/>\n     <use xlink:href=\"#mcec916505f\" x=\"393.573722\" y=\"208.186858\" style=\"fill: #bfbf00; stroke: #bfbf00; stroke-linejoin: miter\"/>\n     <use xlink:href=\"#mcec916505f\" x=\"425.278267\" y=\"167.98891\" style=\"fill: #bfbf00; stroke: #bfbf00; stroke-linejoin: miter\"/>\n     <use xlink:href=\"#mcec916505f\" x=\"456.982813\" y=\"165.757956\" style=\"fill: #bfbf00; stroke: #bfbf00; stroke-linejoin: miter\"/>\n     <use xlink:href=\"#mcec916505f\" x=\"488.687358\" y=\"19.8\" style=\"fill: #bfbf00; stroke: #bfbf00; stroke-linejoin: miter\"/>\n     <use xlink:href=\"#mcec916505f\" x=\"520.391903\" y=\"131.305681\" style=\"fill: #bfbf00; stroke: #bfbf00; stroke-linejoin: miter\"/>\n     <use xlink:href=\"#mcec916505f\" x=\"552.096449\" y=\"113.01986\" style=\"fill: #bfbf00; stroke: #bfbf00; stroke-linejoin: miter\"/>\n     <use xlink:href=\"#mcec916505f\" x=\"583.800994\" y=\"231.569088\" style=\"fill: #bfbf00; stroke: #bfbf00; stroke-linejoin: miter\"/>\n     <use xlink:href=\"#mcec916505f\" x=\"615.50554\" y=\"194.136389\" style=\"fill: #bfbf00; stroke: #bfbf00; stroke-linejoin: miter\"/>\n     <use xlink:href=\"#mcec916505f\" x=\"647.210085\" y=\"220.66551\" style=\"fill: #bfbf00; stroke: #bfbf00; stroke-linejoin: miter\"/>\n     <use xlink:href=\"#mcec916505f\" x=\"678.914631\" y=\"153.460706\" style=\"fill: #bfbf00; stroke: #bfbf00; stroke-linejoin: miter\"/>\n     <use xlink:href=\"#mcec916505f\" x=\"710.619176\" y=\"164.520713\" style=\"fill: #bfbf00; stroke: #bfbf00; stroke-linejoin: miter\"/>\n     <use xlink:href=\"#mcec916505f\" x=\"742.323722\" y=\"226.575495\" style=\"fill: #bfbf00; stroke: #bfbf00; stroke-linejoin: miter\"/>\n     <use xlink:href=\"#mcec916505f\" x=\"774.028267\" y=\"114.729928\" style=\"fill: #bfbf00; stroke: #bfbf00; stroke-linejoin: miter\"/>\n     <use xlink:href=\"#mcec916505f\" x=\"805.732813\" y=\"127.227348\" style=\"fill: #bfbf00; stroke: #bfbf00; stroke-linejoin: miter\"/>\n     <use xlink:href=\"#mcec916505f\" x=\"837.437358\" y=\"220.76215\" style=\"fill: #bfbf00; stroke: #bfbf00; stroke-linejoin: miter\"/>\n    </g>\n   </g>\n   <g id=\"line2d_18\">\n    <defs>\n     <path id=\"m67e975946a\" d=\"M -6 0 \nL 6 0 \nM 0 6 \nL 0 -6 \n\" style=\"stroke: #008000\"/>\n    </defs>\n    <g clip-path=\"url(#pca24c0b0d8)\">\n     <use xlink:href=\"#m67e975946a\" x=\"76.528267\" y=\"228.328434\" style=\"fill: #008000; stroke: #008000\"/>\n     <use xlink:href=\"#m67e975946a\" x=\"108.232813\" y=\"78.699603\" style=\"fill: #008000; stroke: #008000\"/>\n     <use xlink:href=\"#m67e975946a\" x=\"139.937358\" y=\"248.462548\" style=\"fill: #008000; stroke: #008000\"/>\n     <use xlink:href=\"#m67e975946a\" x=\"171.641903\" y=\"233.59358\" style=\"fill: #008000; stroke: #008000\"/>\n     <use xlink:href=\"#m67e975946a\" x=\"203.346449\" y=\"241.933428\" style=\"fill: #008000; stroke: #008000\"/>\n     <use xlink:href=\"#m67e975946a\" x=\"235.050994\" y=\"59.513446\" style=\"fill: #008000; stroke: #008000\"/>\n     <use xlink:href=\"#m67e975946a\" x=\"266.75554\" y=\"229.596688\" style=\"fill: #008000; stroke: #008000\"/>\n     <use xlink:href=\"#m67e975946a\" x=\"298.460085\" y=\"157.851429\" style=\"fill: #008000; stroke: #008000\"/>\n     <use xlink:href=\"#m67e975946a\" x=\"330.164631\" y=\"218.164549\" style=\"fill: #008000; stroke: #008000\"/>\n     <use xlink:href=\"#m67e975946a\" x=\"361.869176\" y=\"122.37743\" style=\"fill: #008000; stroke: #008000\"/>\n     <use xlink:href=\"#m67e975946a\" x=\"393.573722\" y=\"192.441212\" style=\"fill: #008000; stroke: #008000\"/>\n     <use xlink:href=\"#m67e975946a\" x=\"425.278267\" y=\"166.739357\" style=\"fill: #008000; stroke: #008000\"/>\n     <use xlink:href=\"#m67e975946a\" x=\"456.982813\" y=\"71.743259\" style=\"fill: #008000; stroke: #008000\"/>\n     <use xlink:href=\"#m67e975946a\" x=\"488.687358\" y=\"206.319153\" style=\"fill: #008000; stroke: #008000\"/>\n     <use xlink:href=\"#m67e975946a\" x=\"520.391903\" y=\"165.966545\" style=\"fill: #008000; stroke: #008000\"/>\n     <use xlink:href=\"#m67e975946a\" x=\"552.096449\" y=\"181.842632\" style=\"fill: #008000; stroke: #008000\"/>\n     <use xlink:href=\"#m67e975946a\" x=\"583.800994\" y=\"180.345815\" style=\"fill: #008000; stroke: #008000\"/>\n     <use xlink:href=\"#m67e975946a\" x=\"615.50554\" y=\"232.78341\" style=\"fill: #008000; stroke: #008000\"/>\n     <use xlink:href=\"#m67e975946a\" x=\"647.210085\" y=\"42.516295\" style=\"fill: #008000; stroke: #008000\"/>\n     <use xlink:href=\"#m67e975946a\" x=\"678.914631\" y=\"88.524251\" style=\"fill: #008000; stroke: #008000\"/>\n     <use xlink:href=\"#m67e975946a\" x=\"710.619176\" y=\"255.651429\" style=\"fill: #008000; stroke: #008000\"/>\n     <use xlink:href=\"#m67e975946a\" x=\"742.323722\" y=\"248.787563\" style=\"fill: #008000; stroke: #008000\"/>\n     <use xlink:href=\"#m67e975946a\" x=\"774.028267\" y=\"157.050812\" style=\"fill: #008000; stroke: #008000\"/>\n     <use xlink:href=\"#m67e975946a\" x=\"805.732813\" y=\"225.296503\" style=\"fill: #008000; stroke: #008000\"/>\n     <use xlink:href=\"#m67e975946a\" x=\"837.437358\" y=\"43.11408\" style=\"fill: #008000; stroke: #008000\"/>\n    </g>\n   </g>\n   <g id=\"patch_3\">\n    <path d=\"M 38.482813 284.4 \nL 38.482813 7.2 \n\" style=\"fill: none; stroke: #000000; stroke-width: 0.8; stroke-linejoin: miter; stroke-linecap: square\"/>\n   </g>\n   <g id=\"patch_4\">\n    <path d=\"M 875.482813 284.4 \nL 875.482813 7.2 \n\" style=\"fill: none; stroke: #000000; stroke-width: 0.8; stroke-linejoin: miter; stroke-linecap: square\"/>\n   </g>\n   <g id=\"patch_5\">\n    <path d=\"M 38.482813 284.4 \nL 875.482813 284.4 \n\" style=\"fill: none; stroke: #000000; stroke-width: 0.8; stroke-linejoin: miter; stroke-linecap: square\"/>\n   </g>\n   <g id=\"patch_6\">\n    <path d=\"M 38.482813 7.2 \nL 875.482813 7.2 \n\" style=\"fill: none; stroke: #000000; stroke-width: 0.8; stroke-linejoin: miter; stroke-linecap: square\"/>\n   </g>\n   <g id=\"legend_1\">\n    <g id=\"patch_7\">\n     <path d=\"M 45.482813 73.9125 \nL 120.926563 73.9125 \nQ 122.926563 73.9125 122.926563 71.9125 \nL 122.926563 14.2 \nQ 122.926563 12.2 120.926563 12.2 \nL 45.482813 12.2 \nQ 43.482813 12.2 43.482813 14.2 \nL 43.482813 71.9125 \nQ 43.482813 73.9125 45.482813 73.9125 \nz\n\" style=\"fill: #ffffff; opacity: 0.8; stroke: #cccccc; stroke-linejoin: miter\"/>\n    </g>\n    <g id=\"line2d_19\">\n     <g>\n      <use xlink:href=\"#m1fcff155e8\" x=\"57.482813\" y=\"20.298438\" style=\"fill: #ff0000; stroke: #ff0000\"/>\n     </g>\n    </g>\n    <g id=\"text_15\">\n     <!-- no seed -->\n     <g transform=\"translate(75.482813 23.798438) scale(0.1 -0.1)\">\n      <defs>\n       <path id=\"DejaVuSans-6e\" d=\"M 3513 2113 \nL 3513 0 \nL 2938 0 \nL 2938 2094 \nQ 2938 2591 2744 2837 \nQ 2550 3084 2163 3084 \nQ 1697 3084 1428 2787 \nQ 1159 2491 1159 1978 \nL 1159 0 \nL 581 0 \nL 581 3500 \nL 1159 3500 \nL 1159 2956 \nQ 1366 3272 1645 3428 \nQ 1925 3584 2291 3584 \nQ 2894 3584 3203 3211 \nQ 3513 2838 3513 2113 \nz\n\" transform=\"scale(0.015625)\"/>\n       <path id=\"DejaVuSans-6f\" d=\"M 1959 3097 \nQ 1497 3097 1228 2736 \nQ 959 2375 959 1747 \nQ 959 1119 1226 758 \nQ 1494 397 1959 397 \nQ 2419 397 2687 759 \nQ 2956 1122 2956 1747 \nQ 2956 2369 2687 2733 \nQ 2419 3097 1959 3097 \nz\nM 1959 3584 \nQ 2709 3584 3137 3096 \nQ 3566 2609 3566 1747 \nQ 3566 888 3137 398 \nQ 2709 -91 1959 -91 \nQ 1206 -91 779 398 \nQ 353 888 353 1747 \nQ 353 2609 779 3096 \nQ 1206 3584 1959 3584 \nz\n\" transform=\"scale(0.015625)\"/>\n       <path id=\"DejaVuSans-20\" transform=\"scale(0.015625)\"/>\n       <path id=\"DejaVuSans-73\" d=\"M 2834 3397 \nL 2834 2853 \nQ 2591 2978 2328 3040 \nQ 2066 3103 1784 3103 \nQ 1356 3103 1142 2972 \nQ 928 2841 928 2578 \nQ 928 2378 1081 2264 \nQ 1234 2150 1697 2047 \nL 1894 2003 \nQ 2506 1872 2764 1633 \nQ 3022 1394 3022 966 \nQ 3022 478 2636 193 \nQ 2250 -91 1575 -91 \nQ 1294 -91 989 -36 \nQ 684 19 347 128 \nL 347 722 \nQ 666 556 975 473 \nQ 1284 391 1588 391 \nQ 1994 391 2212 530 \nQ 2431 669 2431 922 \nQ 2431 1156 2273 1281 \nQ 2116 1406 1581 1522 \nL 1381 1569 \nQ 847 1681 609 1914 \nQ 372 2147 372 2553 \nQ 372 3047 722 3315 \nQ 1072 3584 1716 3584 \nQ 2034 3584 2315 3537 \nQ 2597 3491 2834 3397 \nz\n\" transform=\"scale(0.015625)\"/>\n       <path id=\"DejaVuSans-65\" d=\"M 3597 1894 \nL 3597 1613 \nL 953 1613 \nQ 991 1019 1311 708 \nQ 1631 397 2203 397 \nQ 2534 397 2845 478 \nQ 3156 559 3463 722 \nL 3463 178 \nQ 3153 47 2828 -22 \nQ 2503 -91 2169 -91 \nQ 1331 -91 842 396 \nQ 353 884 353 1716 \nQ 353 2575 817 3079 \nQ 1281 3584 2069 3584 \nQ 2775 3584 3186 3129 \nQ 3597 2675 3597 1894 \nz\nM 3022 2063 \nQ 3016 2534 2758 2815 \nQ 2500 3097 2075 3097 \nQ 1594 3097 1305 2825 \nQ 1016 2553 972 2059 \nL 3022 2063 \nz\n\" transform=\"scale(0.015625)\"/>\n       <path id=\"DejaVuSans-64\" d=\"M 2906 2969 \nL 2906 4863 \nL 3481 4863 \nL 3481 0 \nL 2906 0 \nL 2906 525 \nQ 2725 213 2448 61 \nQ 2172 -91 1784 -91 \nQ 1150 -91 751 415 \nQ 353 922 353 1747 \nQ 353 2572 751 3078 \nQ 1150 3584 1784 3584 \nQ 2172 3584 2448 3432 \nQ 2725 3281 2906 2969 \nz\nM 947 1747 \nQ 947 1113 1208 752 \nQ 1469 391 1925 391 \nQ 2381 391 2643 752 \nQ 2906 1113 2906 1747 \nQ 2906 2381 2643 2742 \nQ 2381 3103 1925 3103 \nQ 1469 3103 1208 2742 \nQ 947 2381 947 1747 \nz\n\" transform=\"scale(0.015625)\"/>\n      </defs>\n      <use xlink:href=\"#DejaVuSans-6e\"/>\n      <use xlink:href=\"#DejaVuSans-6f\" x=\"63.378906\"/>\n      <use xlink:href=\"#DejaVuSans-20\" x=\"124.560547\"/>\n      <use xlink:href=\"#DejaVuSans-73\" x=\"156.347656\"/>\n      <use xlink:href=\"#DejaVuSans-65\" x=\"208.447266\"/>\n      <use xlink:href=\"#DejaVuSans-65\" x=\"269.970703\"/>\n      <use xlink:href=\"#DejaVuSans-64\" x=\"331.494141\"/>\n     </g>\n    </g>\n    <g id=\"line2d_20\">\n     <g>\n      <use xlink:href=\"#m0deaf04b74\" x=\"57.482813\" y=\"34.976563\" style=\"stroke: #000000; stroke-linejoin: miter\"/>\n     </g>\n    </g>\n    <g id=\"text_16\">\n     <!-- seed 1 A -->\n     <g transform=\"translate(75.482813 38.476563) scale(0.1 -0.1)\">\n      <defs>\n       <path id=\"DejaVuSans-41\" d=\"M 2188 4044 \nL 1331 1722 \nL 3047 1722 \nL 2188 4044 \nz\nM 1831 4666 \nL 2547 4666 \nL 4325 0 \nL 3669 0 \nL 3244 1197 \nL 1141 1197 \nL 716 0 \nL 50 0 \nL 1831 4666 \nz\n\" transform=\"scale(0.015625)\"/>\n      </defs>\n      <use xlink:href=\"#DejaVuSans-73\"/>\n      <use xlink:href=\"#DejaVuSans-65\" x=\"52.099609\"/>\n      <use xlink:href=\"#DejaVuSans-65\" x=\"113.623047\"/>\n      <use xlink:href=\"#DejaVuSans-64\" x=\"175.146484\"/>\n      <use xlink:href=\"#DejaVuSans-20\" x=\"238.623047\"/>\n      <use xlink:href=\"#DejaVuSans-31\" x=\"270.410156\"/>\n      <use xlink:href=\"#DejaVuSans-20\" x=\"334.033203\"/>\n      <use xlink:href=\"#DejaVuSans-41\" x=\"365.820312\"/>\n     </g>\n    </g>\n    <g id=\"line2d_21\">\n     <g>\n      <use xlink:href=\"#mcec916505f\" x=\"57.482813\" y=\"49.654688\" style=\"fill: #bfbf00; stroke: #bfbf00; stroke-linejoin: miter\"/>\n     </g>\n    </g>\n    <g id=\"text_17\">\n     <!-- seed 1 B -->\n     <g transform=\"translate(75.482813 53.154688) scale(0.1 -0.1)\">\n      <defs>\n       <path id=\"DejaVuSans-42\" d=\"M 1259 2228 \nL 1259 519 \nL 2272 519 \nQ 2781 519 3026 730 \nQ 3272 941 3272 1375 \nQ 3272 1813 3026 2020 \nQ 2781 2228 2272 2228 \nL 1259 2228 \nz\nM 1259 4147 \nL 1259 2741 \nL 2194 2741 \nQ 2656 2741 2882 2914 \nQ 3109 3088 3109 3444 \nQ 3109 3797 2882 3972 \nQ 2656 4147 2194 4147 \nL 1259 4147 \nz\nM 628 4666 \nL 2241 4666 \nQ 2963 4666 3353 4366 \nQ 3744 4066 3744 3513 \nQ 3744 3084 3544 2831 \nQ 3344 2578 2956 2516 \nQ 3422 2416 3680 2098 \nQ 3938 1781 3938 1306 \nQ 3938 681 3513 340 \nQ 3088 0 2303 0 \nL 628 0 \nL 628 4666 \nz\n\" transform=\"scale(0.015625)\"/>\n      </defs>\n      <use xlink:href=\"#DejaVuSans-73\"/>\n      <use xlink:href=\"#DejaVuSans-65\" x=\"52.099609\"/>\n      <use xlink:href=\"#DejaVuSans-65\" x=\"113.623047\"/>\n      <use xlink:href=\"#DejaVuSans-64\" x=\"175.146484\"/>\n      <use xlink:href=\"#DejaVuSans-20\" x=\"238.623047\"/>\n      <use xlink:href=\"#DejaVuSans-31\" x=\"270.410156\"/>\n      <use xlink:href=\"#DejaVuSans-20\" x=\"334.033203\"/>\n      <use xlink:href=\"#DejaVuSans-42\" x=\"365.820312\"/>\n     </g>\n    </g>\n    <g id=\"line2d_22\">\n     <g>\n      <use xlink:href=\"#m67e975946a\" x=\"57.482813\" y=\"64.332813\" style=\"fill: #008000; stroke: #008000\"/>\n     </g>\n    </g>\n    <g id=\"text_18\">\n     <!-- seed 2 -->\n     <g transform=\"translate(75.482813 67.832813) scale(0.1 -0.1)\">\n      <use xlink:href=\"#DejaVuSans-73\"/>\n      <use xlink:href=\"#DejaVuSans-65\" x=\"52.099609\"/>\n      <use xlink:href=\"#DejaVuSans-65\" x=\"113.623047\"/>\n      <use xlink:href=\"#DejaVuSans-64\" x=\"175.146484\"/>\n      <use xlink:href=\"#DejaVuSans-20\" x=\"238.623047\"/>\n      <use xlink:href=\"#DejaVuSans-32\" x=\"270.410156\"/>\n     </g>\n    </g>\n   </g>\n  </g>\n </g>\n <defs>\n  <clipPath id=\"pca24c0b0d8\">\n   <rect x=\"38.482813\" y=\"7.2\" width=\"837\" height=\"277.2\"/>\n  </clipPath>\n </defs>\n</svg>\n"
          },
          "metadata": {}
        }
      ]
    },
    {
      "cell_type": "code",
      "source": [
        "print(net_rs1a_params-net_rs1b_params)"
      ],
      "metadata": {
        "colab": {
          "base_uri": "https://localhost:8080/"
        },
        "id": "GA_k06N2GkJb",
        "outputId": "fd5a2df3-f72e-450f-a624-d39fd261f881"
      },
      "execution_count": 43,
      "outputs": [
        {
          "output_type": "stream",
          "name": "stdout",
          "text": [
            "[0. 0. 0. 0. 0. 0. 0. 0. 0. 0. 0. 0. 0. 0. 0. 0. 0. 0. 0. 0. 0. 0. 0. 0.\n",
            " 0.]\n"
          ]
        }
      ]
    }
  ]
}